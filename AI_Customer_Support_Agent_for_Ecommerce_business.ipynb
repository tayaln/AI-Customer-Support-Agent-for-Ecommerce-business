{
  "cells": [
    {
      "cell_type": "markdown",
      "id": "bf1d0ba2-89d0-459e-ace8-55da39dbcdce",
      "metadata": {
        "id": "bf1d0ba2-89d0-459e-ace8-55da39dbcdce"
      },
      "source": [
        "# AI Agent: Tool Use for Ecommerce"
      ]
    },
    {
      "cell_type": "markdown",
      "source": [
        " LLM - Anthropic\n",
        " Database\n",
        " Tools - Database\n",
        " AI Agent\n",
        " Chat interface"
      ],
      "metadata": {
        "id": "SRWctFrrJxZ3"
      },
      "id": "SRWctFrrJxZ3"
    },
    {
      "cell_type": "code",
      "execution_count": 1,
      "id": "6MTVPfErtSRk",
      "metadata": {
        "colab": {
          "base_uri": "https://localhost:8080/"
        },
        "id": "6MTVPfErtSRk",
        "outputId": "19947c6a-04a8-431c-f094-90af1a773887"
      },
      "outputs": [
        {
          "output_type": "stream",
          "name": "stdout",
          "text": [
            "\u001b[?25l   \u001b[90m━━━━━━━━━━━━━━━━━━━━━━━━━━━━━━━━━━━━━━━━\u001b[0m \u001b[32m0.0/203.4 kB\u001b[0m \u001b[31m?\u001b[0m eta \u001b[36m-:--:--\u001b[0m\r\u001b[2K   \u001b[91m━━━━━━━━━━━━━━━━━━━━━━━━━━━━━━━━━━━━━━\u001b[0m\u001b[90m╺\u001b[0m\u001b[90m━\u001b[0m \u001b[32m194.6/203.4 kB\u001b[0m \u001b[31m6.2 MB/s\u001b[0m eta \u001b[36m0:00:01\u001b[0m\r\u001b[2K   \u001b[90m━━━━━━━━━━━━━━━━━━━━━━━━━━━━━━━━━━━━━━━━\u001b[0m \u001b[32m203.4/203.4 kB\u001b[0m \u001b[31m4.5 MB/s\u001b[0m eta \u001b[36m0:00:00\u001b[0m\n",
            "\u001b[?25h"
          ]
        }
      ],
      "source": [
        "!pip install -q anthropic==0.42.0"
      ]
    },
    {
      "cell_type": "code",
      "execution_count": 2,
      "id": "a925059f-5f22-4e6e-8c0b-14d187a02b9d",
      "metadata": {
        "id": "a925059f-5f22-4e6e-8c0b-14d187a02b9d"
      },
      "outputs": [],
      "source": [
        "from anthropic import Anthropic"
      ]
    },
    {
      "cell_type": "code",
      "execution_count": 3,
      "id": "3rzL0fZdtbEA",
      "metadata": {
        "id": "3rzL0fZdtbEA"
      },
      "outputs": [],
      "source": [
        "from google.colab import userdata\n",
        "\n",
        "anthropic_api_key = userdata.get('Anthropic_API')\n"
      ]
    },
    {
      "cell_type": "code",
      "execution_count": 4,
      "id": "z1b-Gev9uCsd",
      "metadata": {
        "id": "z1b-Gev9uCsd"
      },
      "outputs": [],
      "source": [
        "client = Anthropic(api_key=anthropic_api_key)"
      ]
    },
    {
      "cell_type": "code",
      "execution_count": 5,
      "id": "e567f3b8-71c6-46fb-9e2a-9e2f62ab748e",
      "metadata": {
        "id": "e567f3b8-71c6-46fb-9e2a-9e2f62ab748e"
      },
      "outputs": [],
      "source": [
        "MODEL_NAME=\"claude-3-5-sonnet-20241022\"\n",
        "#client = Anthropic()"
      ]
    },
    {
      "cell_type": "markdown",
      "id": "8df72b6d-acb6-44ab-b563-484aedee8139",
      "metadata": {
        "id": "8df72b6d-acb6-44ab-b563-484aedee8139"
      },
      "source": [
        "## Tool Use Flow"
      ]
    },
    {
      "cell_type": "markdown",
      "id": "e574cd0b-7b84-4f5f-a8cb-74a976f05f92",
      "metadata": {
        "id": "e574cd0b-7b84-4f5f-a8cb-74a976f05f92"
      },
      "source": [
        "## Our Dummy Database"
      ]
    },
    {
      "cell_type": "code",
      "execution_count": 6,
      "id": "6f2f8db6-65a0-444b-b513-a153814dec1e",
      "metadata": {
        "id": "6f2f8db6-65a0-444b-b513-a153814dec1e"
      },
      "outputs": [],
      "source": [
        "class FakeDatabase:\n",
        "    def __init__(self):\n",
        "        self.customers = [\n",
        "            {\"id\": \"1213210\", \"name\": \"John Doe\", \"email\": \"john@gmail.com\", \"phone\": \"123-456-7890\", \"username\": \"johndoe\"},\n",
        "            {\"id\": \"2837622\", \"name\": \"Priya Patel\", \"email\": \"priya@candy.com\", \"phone\": \"987-654-3210\", \"username\": \"priya123\"},\n",
        "            {\"id\": \"3924156\", \"name\": \"Liam Nguyen\", \"email\": \"lnguyen@yahoo.com\", \"phone\": \"555-123-4567\", \"username\": \"liamn\"},\n",
        "            {\"id\": \"4782901\", \"name\": \"Aaliyah Davis\", \"email\": \"aaliyahd@hotmail.com\", \"phone\": \"111-222-3333\", \"username\": \"adavis\"},\n",
        "            {\"id\": \"5190753\", \"name\": \"Hiroshi Nakamura\", \"email\": \"hiroshi@gmail.com\", \"phone\": \"444-555-6666\", \"username\": \"hiroshin\"},\n",
        "            {\"id\": \"6824095\", \"name\": \"Fatima Ahmed\", \"email\": \"fatimaa@outlook.com\", \"phone\": \"777-888-9999\", \"username\": \"fatimaahmed\"},\n",
        "            {\"id\": \"7135680\", \"name\": \"Alejandro Rodriguez\", \"email\": \"arodriguez@protonmail.com\", \"phone\": \"222-333-4444\", \"username\": \"alexr\"},\n",
        "            {\"id\": \"8259147\", \"name\": \"Megan Anderson\", \"email\": \"megana@gmail.com\", \"phone\": \"666-777-8888\", \"username\": \"manderson\"},\n",
        "            {\"id\": \"9603481\", \"name\": \"Kwame Osei\", \"email\": \"kwameo@yahoo.com\", \"phone\": \"999-000-1111\", \"username\": \"kwameo\"},\n",
        "            {\"id\": \"1057426\", \"name\": \"Mei Lin\", \"email\": \"meilin@gmail.com\", \"phone\": \"333-444-5555\", \"username\": \"mlin\"}\n",
        "        ]\n",
        "\n",
        "        self.orders = [\n",
        "            {\"id\": \"24601\", \"customer_id\": \"1213210\", \"product\": \"Wireless Headphones\", \"quantity\": 1, \"price\": 79.99, \"status\": \"Shipped\"},\n",
        "            {\"id\": \"13579\", \"customer_id\": \"1213210\", \"product\": \"Smartphone Case\", \"quantity\": 2, \"price\": 19.99, \"status\": \"Processing\"},\n",
        "            {\"id\": \"97531\", \"customer_id\": \"2837622\", \"product\": \"Bluetooth Speaker\", \"quantity\": 1, \"price\": \"49.99\", \"status\": \"Shipped\"},\n",
        "            {\"id\": \"86420\", \"customer_id\": \"3924156\", \"product\": \"Fitness Tracker\", \"quantity\": 1, \"price\": 129.99, \"status\": \"Delivered\"},\n",
        "            {\"id\": \"54321\", \"customer_id\": \"4782901\", \"product\": \"Laptop Sleeve\", \"quantity\": 3, \"price\": 24.99, \"status\": \"Shipped\"},\n",
        "            {\"id\": \"19283\", \"customer_id\": \"5190753\", \"product\": \"Wireless Mouse\", \"quantity\": 1, \"price\": 34.99, \"status\": \"Processing\"},\n",
        "            {\"id\": \"74651\", \"customer_id\": \"6824095\", \"product\": \"Gaming Keyboard\", \"quantity\": 1, \"price\": 89.99, \"status\": \"Delivered\"},\n",
        "            {\"id\": \"30298\", \"customer_id\": \"7135680\", \"product\": \"Portable Charger\", \"quantity\": 2, \"price\": 29.99, \"status\": \"Shipped\"},\n",
        "            {\"id\": \"47652\", \"customer_id\": \"8259147\", \"product\": \"Smartwatch\", \"quantity\": 1, \"price\": 199.99, \"status\": \"Processing\"},\n",
        "            {\"id\": \"61984\", \"customer_id\": \"9603481\", \"product\": \"Noise-Cancelling Headphones\", \"quantity\": 1, \"price\": 149.99, \"status\": \"Shipped\"},\n",
        "            {\"id\": \"58243\", \"customer_id\": \"1057426\", \"product\": \"Wireless Earbuds\", \"quantity\": 2, \"price\": 99.99, \"status\": \"Delivered\"},\n",
        "            {\"id\": \"90357\", \"customer_id\": \"1213210\", \"product\": \"Smartphone Case\", \"quantity\": 1, \"price\": 19.99, \"status\": \"Shipped\"},\n",
        "            {\"id\": \"28164\", \"customer_id\": \"2837622\", \"product\": \"Wireless Headphones\", \"quantity\": 2, \"price\": 79.99, \"status\": \"Processing\"}\n",
        "        ]\n",
        "\n",
        "    def get_user(self, key, value):\n",
        "        if key in {\"email\", \"phone\", \"username\"}:\n",
        "            for customer in self.customers:\n",
        "                if customer[key] == value:\n",
        "                    return customer\n",
        "            return f\"Couldn't find a user with {key} of {value}\"\n",
        "        else:\n",
        "            raise ValueError(f\"Invalid key: {key}\")\n",
        "\n",
        "        return None\n",
        "\n",
        "    def get_order_by_id(self, order_id):\n",
        "        for order in self.orders:\n",
        "            if order[\"id\"] == order_id:\n",
        "                return order\n",
        "        return None\n",
        "\n",
        "    def get_customer_orders(self, customer_id):\n",
        "        return [order for order in self.orders if order[\"customer_id\"] == customer_id]\n",
        "\n",
        "    def cancel_order(self, order_id):\n",
        "        order = self.get_order_by_id(order_id)\n",
        "        if order:\n",
        "            if order[\"status\"] == \"Processing\":\n",
        "                order[\"status\"] = \"Cancelled\"\n",
        "                return \"Cancelled the order\"\n",
        "            else:\n",
        "                return \"Order has already shipped.  Can't cancel it.\"\n",
        "        return \"Can't find that order!\""
      ]
    },
    {
      "cell_type": "code",
      "execution_count": 7,
      "id": "d1bf889f-de95-48af-8b5e-121a46eeeb2f",
      "metadata": {
        "id": "d1bf889f-de95-48af-8b5e-121a46eeeb2f"
      },
      "outputs": [],
      "source": [
        "db = FakeDatabase()"
      ]
    },
    {
      "cell_type": "code",
      "execution_count": 8,
      "id": "db6196f6-c74f-4dc2-a468-a0a6afb46ec6",
      "metadata": {
        "colab": {
          "base_uri": "https://localhost:8080/"
        },
        "id": "db6196f6-c74f-4dc2-a468-a0a6afb46ec6",
        "outputId": "803a8958-a90e-4e2a-fe13-f60098cc005e"
      },
      "outputs": [
        {
          "output_type": "execute_result",
          "data": {
            "text/plain": [
              "{'id': '1213210',\n",
              " 'name': 'John Doe',\n",
              " 'email': 'john@gmail.com',\n",
              " 'phone': '123-456-7890',\n",
              " 'username': 'johndoe'}"
            ]
          },
          "metadata": {},
          "execution_count": 8
        }
      ],
      "source": [
        "db.get_user(\"email\",\"john@gmail.com\")"
      ]
    },
    {
      "cell_type": "code",
      "execution_count": 9,
      "id": "373a201d-292d-4d5e-9282-fe62be753aad",
      "metadata": {
        "colab": {
          "base_uri": "https://localhost:8080/"
        },
        "id": "373a201d-292d-4d5e-9282-fe62be753aad",
        "outputId": "dbb4c5f0-a36e-430d-b050-c48c47c1f5c3"
      },
      "outputs": [
        {
          "output_type": "execute_result",
          "data": {
            "text/plain": [
              "[{'id': '24601',\n",
              "  'customer_id': '1213210',\n",
              "  'product': 'Wireless Headphones',\n",
              "  'quantity': 1,\n",
              "  'price': 79.99,\n",
              "  'status': 'Shipped'},\n",
              " {'id': '13579',\n",
              "  'customer_id': '1213210',\n",
              "  'product': 'Smartphone Case',\n",
              "  'quantity': 2,\n",
              "  'price': 19.99,\n",
              "  'status': 'Processing'},\n",
              " {'id': '90357',\n",
              "  'customer_id': '1213210',\n",
              "  'product': 'Smartphone Case',\n",
              "  'quantity': 1,\n",
              "  'price': 19.99,\n",
              "  'status': 'Shipped'}]"
            ]
          },
          "metadata": {},
          "execution_count": 9
        }
      ],
      "source": [
        "db.get_customer_orders('1213210')"
      ]
    },
    {
      "cell_type": "code",
      "execution_count": 10,
      "id": "afcbf5d6-23b8-46ea-b762-5d94ca788d80",
      "metadata": {
        "colab": {
          "base_uri": "https://localhost:8080/",
          "height": 36
        },
        "id": "afcbf5d6-23b8-46ea-b762-5d94ca788d80",
        "outputId": "13f03e11-e75e-4d2c-9541-ef5a5e7a11ed"
      },
      "outputs": [
        {
          "output_type": "execute_result",
          "data": {
            "text/plain": [
              "'Cancelled the order'"
            ],
            "application/vnd.google.colaboratory.intrinsic+json": {
              "type": "string"
            }
          },
          "metadata": {},
          "execution_count": 10
        }
      ],
      "source": [
        "db.cancel_order('13579')"
      ]
    },
    {
      "cell_type": "markdown",
      "id": "6a325071-9898-4590-b34b-fe92716d959f",
      "metadata": {
        "id": "6a325071-9898-4590-b34b-fe92716d959f"
      },
      "source": [
        "## Defining Tool Schemas"
      ]
    },
    {
      "cell_type": "code",
      "execution_count": 11,
      "id": "37e6cb3b-fc1c-47c9-bad4-0d5c7b248c78",
      "metadata": {
        "colab": {
          "base_uri": "https://localhost:8080/"
        },
        "id": "37e6cb3b-fc1c-47c9-bad4-0d5c7b248c78",
        "outputId": "ad699825-a476-4de4-e7ce-474bba31cfe9"
      },
      "outputs": [
        {
          "output_type": "execute_result",
          "data": {
            "text/plain": [
              "{'name': 'get_user',\n",
              " 'description': 'Looks up a user by email, phone, or username.',\n",
              " 'input_schema': {'type': 'object',\n",
              "  'properties': {'key': {'type': 'string',\n",
              "    'enum': ['email', 'phone', 'username'],\n",
              "    'description': 'The attribute to search for a user by (email, phone, or username).'},\n",
              "   'value': {'type': 'string',\n",
              "    'description': 'The value to match for the specified attribute.'}},\n",
              "  'required': ['key', 'value']}}"
            ]
          },
          "metadata": {},
          "execution_count": 11
        }
      ],
      "source": [
        "{\n",
        "    \"name\": \"get_user\",\n",
        "    \"description\": \"Looks up a user by email, phone, or username.\",\n",
        "    \"input_schema\": {\n",
        "        \"type\": \"object\",\n",
        "        \"properties\": {\n",
        "            \"key\": {\n",
        "                \"type\": \"string\",\n",
        "                \"enum\": [\"email\", \"phone\", \"username\"],\n",
        "                \"description\": \"The attribute to search for a user by (email, phone, or username).\"\n",
        "            },\n",
        "            \"value\": {\n",
        "                \"type\": \"string\",\n",
        "                \"description\": \"The value to match for the specified attribute.\"\n",
        "            }\n",
        "        },\n",
        "        \"required\": [\"key\", \"value\"]\n",
        "    }\n",
        "}"
      ]
    },
    {
      "cell_type": "markdown",
      "id": "18ccc2d6-6fb7-4a02-bc68-3b48768f36ab",
      "metadata": {
        "id": "18ccc2d6-6fb7-4a02-bc68-3b48768f36ab"
      },
      "source": [
        "## All Four Tools"
      ]
    },
    {
      "cell_type": "code",
      "execution_count": 12,
      "id": "bc24a681-7ce4-4817-a5db-0db431bc4aee",
      "metadata": {
        "id": "bc24a681-7ce4-4817-a5db-0db431bc4aee"
      },
      "outputs": [],
      "source": [
        "tools = [\n",
        "    {\n",
        "        \"name\": \"get_user\",\n",
        "        \"description\": \"Looks up a user by email, phone, or username.\",\n",
        "        \"input_schema\": {\n",
        "            \"type\": \"object\",\n",
        "            \"properties\": {\n",
        "                \"key\": {\n",
        "                    \"type\": \"string\",\n",
        "                    \"enum\": [\"email\", \"phone\", \"username\"],\n",
        "                    \"description\": \"The attribute to search for a user by (email, phone, or username).\"\n",
        "                },\n",
        "                \"value\": {\n",
        "                    \"type\": \"string\",\n",
        "                    \"description\": \"The value to match for the specified attribute.\"\n",
        "                }\n",
        "            },\n",
        "            \"required\": [\"key\", \"value\"]\n",
        "        }\n",
        "    },\n",
        "    {\n",
        "        \"name\": \"get_order_by_id\",\n",
        "        \"description\": \"Retrieves the details of a specific order based on the order ID. Returns the order ID, product name, quantity, price, and order status.\",\n",
        "        \"input_schema\": {\n",
        "            \"type\": \"object\",\n",
        "            \"properties\": {\n",
        "                \"order_id\": {\n",
        "                    \"type\": \"string\",\n",
        "                    \"description\": \"The unique identifier for the order.\"\n",
        "                }\n",
        "            },\n",
        "            \"required\": [\"order_id\"]\n",
        "        }\n",
        "    },\n",
        "    {\n",
        "        \"name\": \"get_customer_orders\",\n",
        "        \"description\": \"Retrieves the list of orders belonging to a user based on a user's customer id.\",\n",
        "        \"input_schema\": {\n",
        "            \"type\": \"object\",\n",
        "            \"properties\": {\n",
        "                \"customer_id\": {\n",
        "                    \"type\": \"string\",\n",
        "                    \"description\": \"The customer_id belonging to the user\"\n",
        "                }\n",
        "            },\n",
        "            \"required\": [\"customer_id\"]\n",
        "        }\n",
        "    },\n",
        "    {\n",
        "        \"name\": \"cancel_order\",\n",
        "        \"description\": \"Cancels an order based on a provided order_id.  Only orders that are 'processing' can be cancelled\",\n",
        "        \"input_schema\": {\n",
        "            \"type\": \"object\",\n",
        "            \"properties\": {\n",
        "                \"order_id\": {\n",
        "                    \"type\": \"string\",\n",
        "                    \"description\": \"The order_id pertaining to a particular order\"\n",
        "                }\n",
        "            },\n",
        "            \"required\": [\"order_id\"]\n",
        "        }\n",
        "    }\n",
        "]"
      ]
    },
    {
      "cell_type": "markdown",
      "id": "8e6b2f23-40ae-4d25-845b-ce816fad6a2b",
      "metadata": {
        "id": "8e6b2f23-40ae-4d25-845b-ce816fad6a2b"
      },
      "source": [
        "## Giving Claude Tools"
      ]
    },
    {
      "cell_type": "code",
      "execution_count": 13,
      "id": "f4d11bf9-fd43-46ab-ae29-ce52fec75bce",
      "metadata": {
        "id": "f4d11bf9-fd43-46ab-ae29-ce52fec75bce"
      },
      "outputs": [],
      "source": [
        "messages = [\n",
        "    {\n",
        "        \"role\": \"user\",\n",
        "        \"content\": \"Show me my orders.  My username is priya123\"\n",
        "    }\n",
        "]\n",
        "response = client.messages.create(\n",
        "    model=MODEL_NAME,\n",
        "    max_tokens=4096,\n",
        "    tools=tools,\n",
        "    messages=messages\n",
        ")"
      ]
    },
    {
      "cell_type": "code",
      "execution_count": 14,
      "id": "1b72568d-b819-4a07-b043-23e65dfd2878",
      "metadata": {
        "colab": {
          "base_uri": "https://localhost:8080/"
        },
        "id": "1b72568d-b819-4a07-b043-23e65dfd2878",
        "outputId": "2fa6b074-1aff-4ec8-81cd-5792d0f1b0e3"
      },
      "outputs": [
        {
          "output_type": "stream",
          "name": "stdout",
          "text": [
            "[TextBlock(text=\"I'll help you look up your orders. Let me first get your customer information using your username, and then I'll retrieve your orders.\", type='text'), ToolUseBlock(id='toolu_01N2vzoxwdRCECsSuv94ksFD', input={'key': 'username', 'value': 'priya123'}, name='get_user', type='tool_use')]\n"
          ]
        }
      ],
      "source": [
        "print(response.content)"
      ]
    },
    {
      "cell_type": "code",
      "execution_count": 15,
      "id": "c235371a-e10d-471d-8cd8-734ce6c06cf7",
      "metadata": {
        "colab": {
          "base_uri": "https://localhost:8080/"
        },
        "id": "c235371a-e10d-471d-8cd8-734ce6c06cf7",
        "outputId": "131c6099-e3c0-42eb-db9e-e8f0fcbbc221"
      },
      "outputs": [
        {
          "output_type": "stream",
          "name": "stdout",
          "text": [
            "ToolUseBlock(id='toolu_01N2vzoxwdRCECsSuv94ksFD', input={'key': 'username', 'value': 'priya123'}, name='get_user', type='tool_use')\n"
          ]
        }
      ],
      "source": [
        "print(response.content[-1])"
      ]
    },
    {
      "cell_type": "code",
      "execution_count": 16,
      "id": "3396fda5-e67b-4c51-9721-92d60e551113",
      "metadata": {
        "id": "3396fda5-e67b-4c51-9721-92d60e551113"
      },
      "outputs": [],
      "source": [
        "def process_tool_call(tool_name, tool_input):\n",
        "    if tool_name == \"get_user\":\n",
        "        return db.get_user(tool_input[\"key\"], tool_input[\"value\"])\n",
        "    elif tool_name == \"get_order_by_id\":\n",
        "        return db.get_order_by_id(tool_input[\"order_id\"])\n",
        "    elif tool_name == \"get_customer_orders\":\n",
        "        return db.get_customer_orders(tool_input[\"customer_id\"])\n",
        "    elif tool_name == \"cancel_order\":\n",
        "        return db.cancel_order(tool_input[\"order_id\"])"
      ]
    },
    {
      "cell_type": "code",
      "execution_count": 17,
      "id": "757f94f7-af16-4ef3-92d5-78d2caf29e08",
      "metadata": {
        "id": "757f94f7-af16-4ef3-92d5-78d2caf29e08"
      },
      "outputs": [],
      "source": [
        "tool_use = response.content[-1]\n",
        "tool_name = tool_use.name\n",
        "tool_input = tool_use.input"
      ]
    },
    {
      "cell_type": "code",
      "execution_count": 18,
      "id": "fd33a8e4-0cc6-488d-bfed-962eb61a5d0f",
      "metadata": {
        "id": "fd33a8e4-0cc6-488d-bfed-962eb61a5d0f"
      },
      "outputs": [],
      "source": [
        "tool_result = process_tool_call(tool_name, tool_input)"
      ]
    },
    {
      "cell_type": "code",
      "execution_count": 19,
      "id": "87ad1d8f-b978-4cc6-b1b0-847bf7900627",
      "metadata": {
        "colab": {
          "base_uri": "https://localhost:8080/"
        },
        "id": "87ad1d8f-b978-4cc6-b1b0-847bf7900627",
        "outputId": "15374602-dd7a-4ca5-9210-54fc8b6a7d43"
      },
      "outputs": [
        {
          "output_type": "execute_result",
          "data": {
            "text/plain": [
              "{'role': 'user',\n",
              " 'content': [{'type': 'tool_result',\n",
              "   'tool_use_id': 'toolu_01N2vzoxwdRCECsSuv94ksFD',\n",
              "   'content': \"{'id': '2837622', 'name': 'Priya Patel', 'email': 'priya@candy.com', 'phone': '987-654-3210', 'username': 'priya123'}\"}]}"
            ]
          },
          "metadata": {},
          "execution_count": 19
        }
      ],
      "source": [
        "{\n",
        "    \"role\": \"user\",\n",
        "    \"content\": [\n",
        "        {\n",
        "            \"type\": \"tool_result\",\n",
        "            \"tool_use_id\": tool_use.id,\n",
        "            \"content\": str(tool_result),\n",
        "        }\n",
        "    ],\n",
        "}"
      ]
    },
    {
      "cell_type": "markdown",
      "id": "c925217c-e2ec-4cf2-b381-060c430a2bcc",
      "metadata": {
        "id": "c925217c-e2ec-4cf2-b381-060c430a2bcc"
      },
      "source": [
        "## The Complete Chatbot"
      ]
    },
    {
      "cell_type": "code",
      "execution_count": 20,
      "id": "ebe07a59-cfe1-402e-978a-9c5b8943092b",
      "metadata": {
        "id": "ebe07a59-cfe1-402e-978a-9c5b8943092b"
      },
      "outputs": [],
      "source": [
        "import re\n",
        "def extract_reply(text):\n",
        "    pattern = r'<reply>(.*?)</reply>'\n",
        "    match = re.search(pattern, text, re.DOTALL)\n",
        "    if match:\n",
        "        return match.group(1)\n",
        "    else:\n",
        "        return None\n",
        "\n",
        "def simple_chat():\n",
        "    system_prompt = \"\"\"\n",
        "    You are a customer support chat bot for an online retailer\n",
        "    called Acme Co.Your job is to help users look up their account,\n",
        "    orders, and cancel orders.Be helpful and brief in your responses.\n",
        "    You have access to a set of tools, but only use them when needed.\n",
        "    If you do not have enough information to use a tool correctly,\n",
        "    ask a user follow up questions to get the required inputs.\n",
        "    Do not call any of the tools unless you have the required\n",
        "    data from a user.\n",
        "\n",
        "    In each conversational turn, you will begin by thinking about\n",
        "    your response. Once you're done, you will write a user-facing\n",
        "    response. It's important to place all user-facing conversational\n",
        "    responses in <reply></reply> XML tags to make them easy to parse.\n",
        "    \"\"\"\n",
        "    user_message = input(\"\\nUser: \")\n",
        "    messages = [{\"role\": \"user\", \"content\": user_message}]\n",
        "    while True:\n",
        "        if user_message == \"quit\":\n",
        "            break\n",
        "        #If the last message is from the assistant,\n",
        "        # get another input from the user\n",
        "        if messages[-1].get(\"role\") == \"assistant\":\n",
        "            user_message = input(\"\\nUser: \")\n",
        "            messages.append({\"role\": \"user\", \"content\": user_message})\n",
        "\n",
        "        #Send a request to Claude\n",
        "        response = client.messages.create(\n",
        "            model=MODEL_NAME,\n",
        "            system=system_prompt,\n",
        "            max_tokens=4096,\n",
        "            tools=tools,\n",
        "            messages=messages\n",
        "        )\n",
        "        # Update messages to include Claude's response\n",
        "        messages.append(\n",
        "            {\"role\": \"assistant\", \"content\": response.content}\n",
        "        )\n",
        "\n",
        "        #If Claude stops because it wants to use a tool:\n",
        "        if response.stop_reason == \"tool_use\":\n",
        "            #Naive approach assumes only 1 tool is called at a time\n",
        "            tool_use = response.content[-1]\n",
        "            tool_name = tool_use.name\n",
        "            tool_input = tool_use.input\n",
        "            print(f\"=====Claude wants to use the {tool_name} tool=====\")\n",
        "\n",
        "\n",
        "            #Actually run the underlying tool functionality on our db\n",
        "            tool_result = process_tool_call(tool_name, tool_input)\n",
        "\n",
        "            #Add our tool_result message:\n",
        "            messages.append(\n",
        "                {\n",
        "                    \"role\": \"user\",\n",
        "                    \"content\": [\n",
        "                        {\n",
        "                            \"type\": \"tool_result\",\n",
        "                            \"tool_use_id\": tool_use.id,\n",
        "                            \"content\": str(tool_result),\n",
        "                        }\n",
        "                    ],\n",
        "                },\n",
        "            )\n",
        "        else:\n",
        "            #If Claude does NOT want to use a tool,\n",
        "            #just print out the text reponse\n",
        "            model_reply = extract_reply(response.content[0].text)\n",
        "            print(\"\\nAcme Co Support: \" + f\"{model_reply}\" )"
      ]
    },
    {
      "cell_type": "markdown",
      "id": "61a3de3c-79cf-46c1-b44c-923337e311a7",
      "metadata": {
        "id": "61a3de3c-79cf-46c1-b44c-923337e311a7"
      },
      "source": [
        "<p style=\"background-color:#f7fff8; padding:15px; border-width:3px; border-color:#e0f0e0; border-style:solid; border-radius:6px\"> 🚨\n",
        "&nbsp; <b>Different Run Results:</b> The output generated by AI chat models can vary with each execution due to their probabilistic nature. Don't be surprised if your results differ from those shown in the video.</p>"
      ]
    },
    {
      "cell_type": "code",
      "execution_count": null,
      "id": "8056c435-8da4-4589-acba-306f8ed3d458",
      "metadata": {
        "colab": {
          "base_uri": "https://localhost:8080/"
        },
        "id": "8056c435-8da4-4589-acba-306f8ed3d458",
        "outputId": "26d1e667-e241-44bc-f61d-c6d5291b85dc"
      },
      "outputs": [
        {
          "output_type": "stream",
          "name": "stdout",
          "text": [
            "\n",
            "User: hello\n",
            "\n",
            "Acme Co Support: Hello! I'm the Acme Co. customer service assistant. I can help you look up your account information, check your orders, or assist with cancellations. How can I help you today?\n",
            "\n",
            "User: i want to cancel my order\n",
            "\n",
            "Acme Co Support: I can help you cancel your order, but I'll need the order ID to process the cancellation. Could you please provide me with the order ID? If you don't have it handy, I can help look up your orders if you provide your email, phone number, or username.\n",
            "\n",
            "User: my user is ntayal\n",
            "=====Claude wants to use the get_user tool=====\n",
            "\n",
            "Acme Co Support: I apologize, but I couldn't find a user account with the username 'ntayal'. Could you please:\n",
            "1. Double-check the spelling of your username, or\n",
            "2. Try providing your email address or phone number instead?\n",
            "This will help me locate your account and orders correctly.\n",
            "\n",
            "User: my customer id is 1213210        \n",
            "=====Claude wants to use the get_customer_orders tool=====\n",
            "\n",
            "Acme Co Support: I can see your orders, but I notice that they are either already shipped or cancelled. Unfortunately, I can only cancel orders that are still in 'processing' status. Here are your recent orders:\n",
            "1. Order #24601: Wireless Headphones (Shipped)\n",
            "2. Order #13579: Smartphone Case (Already Cancelled)\n",
            "3. Order #90357: Smartphone Case (Shipped)\n",
            "\n",
            "Since all orders are either shipped or cancelled, I cannot process any cancellations. Is there something else I can help you with?\n",
            "\n",
            "User: ok what about this order 5190753\n",
            "=====Claude wants to use the get_order_by_id tool=====\n",
            "\n",
            "Acme Co Support: I apologize, but I couldn't find any order with ID '5190753'. Are you sure this is the correct order number? If you'd like, you can:\n",
            "1. Double-check the order number\n",
            "2. Share your email, phone number, or username so I can look up your orders again\n",
            "This will help me assist you better.\n",
            "\n",
            "User: order id 47652\n",
            "=====Claude wants to use the get_order_by_id tool=====\n",
            "=====Claude wants to use the cancel_order tool=====\n",
            "\n",
            "Acme Co Support: I've successfully cancelled your order #47652 for 1 Smartwatch. The cancellation has been processed and confirmed. Is there anything else I can help you with?\n"
          ]
        }
      ],
      "source": [
        "simple_chat()"
      ]
    },
    {
      "cell_type": "code",
      "execution_count": null,
      "id": "6e8dc80e-d16f-413d-8165-70a5d2a3bf2f",
      "metadata": {
        "id": "6e8dc80e-d16f-413d-8165-70a5d2a3bf2f"
      },
      "outputs": [],
      "source": []
    }
  ],
  "metadata": {
    "colab": {
      "provenance": [],
      "gpuType": "A100"
    },
    "kernelspec": {
      "display_name": "Python 3",
      "name": "python3"
    },
    "language_info": {
      "codemirror_mode": {
        "name": "ipython",
        "version": 3
      },
      "file_extension": ".py",
      "mimetype": "text/x-python",
      "name": "python",
      "nbconvert_exporter": "python",
      "pygments_lexer": "ipython3",
      "version": "3.11.9"
    },
    "accelerator": "GPU"
  },
  "nbformat": 4,
  "nbformat_minor": 5
}